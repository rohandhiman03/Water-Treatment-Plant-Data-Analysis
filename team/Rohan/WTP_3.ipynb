{
 "cells": [
  {
   "cell_type": "code",
   "execution_count": 151,
   "id": "fc9fc525-d897-4795-9111-cbedab7dd749",
   "metadata": {},
   "outputs": [],
   "source": [
    "import pandas as pd\n",
    "from sklearn.tree import DecisionTreeRegressor\n",
    "from sklearn.model_selection import train_test_split\n",
    "from sklearn.metrics import r2_score"
   ]
  },
  {
   "cell_type": "code",
   "execution_count": 152,
   "id": "01c14f4e-1c46-4280-9be2-a0c9008752a6",
   "metadata": {},
   "outputs": [],
   "source": [
    "df1 =pd.read_excel('WTP.xlsx', sheet_name='2019',header=1)\n",
    "df2 =pd.read_excel('WTP.xlsx', sheet_name='2020',header=1)\n",
    "df3 =pd.read_excel('WTP.xlsx', sheet_name='2021',header=1)\n",
    "df4 = pd.read_excel('WTP.xlsx', sheet_name='2022',header=1)\n",
    "df5 =pd.read_excel('WTP.xlsx', sheet_name='2023',header=1)"
   ]
  },
  {
   "cell_type": "code",
   "execution_count": 153,
   "id": "309540e2-ef10-45f8-a990-a5b2bde863ec",
   "metadata": {},
   "outputs": [],
   "source": [
    "pH = df1.iloc[1:368, 8:9]"
   ]
  },
  {
   "cell_type": "code",
   "execution_count": 154,
   "id": "60c56136-c830-42d7-a5aa-ce88fdf3ef95",
   "metadata": {},
   "outputs": [
    {
     "data": {
      "text/html": [
       "<div>\n",
       "<style scoped>\n",
       "    .dataframe tbody tr th:only-of-type {\n",
       "        vertical-align: middle;\n",
       "    }\n",
       "\n",
       "    .dataframe tbody tr th {\n",
       "        vertical-align: top;\n",
       "    }\n",
       "\n",
       "    .dataframe thead th {\n",
       "        text-align: right;\n",
       "    }\n",
       "</style>\n",
       "<table border=\"1\" class=\"dataframe\">\n",
       "  <thead>\n",
       "    <tr style=\"text-align: right;\">\n",
       "      <th></th>\n",
       "      <th>Unnamed: 8</th>\n",
       "    </tr>\n",
       "  </thead>\n",
       "  <tbody>\n",
       "    <tr>\n",
       "      <th>1</th>\n",
       "      <td>0</td>\n",
       "    </tr>\n",
       "    <tr>\n",
       "      <th>2</th>\n",
       "      <td>7.16</td>\n",
       "    </tr>\n",
       "    <tr>\n",
       "      <th>3</th>\n",
       "      <td>7.19</td>\n",
       "    </tr>\n",
       "    <tr>\n",
       "      <th>4</th>\n",
       "      <td>6.71</td>\n",
       "    </tr>\n",
       "    <tr>\n",
       "      <th>5</th>\n",
       "      <td>6.45</td>\n",
       "    </tr>\n",
       "    <tr>\n",
       "      <th>...</th>\n",
       "      <td>...</td>\n",
       "    </tr>\n",
       "    <tr>\n",
       "      <th>363</th>\n",
       "      <td>0</td>\n",
       "    </tr>\n",
       "    <tr>\n",
       "      <th>364</th>\n",
       "      <td>7.01</td>\n",
       "    </tr>\n",
       "    <tr>\n",
       "      <th>365</th>\n",
       "      <td>7.04</td>\n",
       "    </tr>\n",
       "    <tr>\n",
       "      <th>366</th>\n",
       "      <td>NaN</td>\n",
       "    </tr>\n",
       "    <tr>\n",
       "      <th>367</th>\n",
       "      <td>NaN</td>\n",
       "    </tr>\n",
       "  </tbody>\n",
       "</table>\n",
       "<p>367 rows × 1 columns</p>\n",
       "</div>"
      ],
      "text/plain": [
       "    Unnamed: 8\n",
       "1            0\n",
       "2         7.16\n",
       "3         7.19\n",
       "4         6.71\n",
       "5         6.45\n",
       "..         ...\n",
       "363          0\n",
       "364       7.01\n",
       "365       7.04\n",
       "366        NaN\n",
       "367        NaN\n",
       "\n",
       "[367 rows x 1 columns]"
      ]
     },
     "execution_count": 154,
     "metadata": {},
     "output_type": "execute_result"
    }
   ],
   "source": [
    "pH"
   ]
  },
  {
   "cell_type": "code",
   "execution_count": 155,
   "id": "c1b50b73-8201-4260-adc3-55a40174fa11",
   "metadata": {},
   "outputs": [],
   "source": [
    "pH = pd.concat([df1.iloc[1:368, 8:9], df2.iloc[1:368, 8:9], df3.iloc[1:368, 8:9], df4.iloc[1:368, 8:9], df5.iloc[1:368, 8:9]], axis=0)"
   ]
  },
  {
   "cell_type": "code",
   "execution_count": 156,
   "id": "1d8c376d-0103-48dd-b8af-711b43ef15ab",
   "metadata": {},
   "outputs": [
    {
     "data": {
      "text/html": [
       "<div>\n",
       "<style scoped>\n",
       "    .dataframe tbody tr th:only-of-type {\n",
       "        vertical-align: middle;\n",
       "    }\n",
       "\n",
       "    .dataframe tbody tr th {\n",
       "        vertical-align: top;\n",
       "    }\n",
       "\n",
       "    .dataframe thead th {\n",
       "        text-align: right;\n",
       "    }\n",
       "</style>\n",
       "<table border=\"1\" class=\"dataframe\">\n",
       "  <thead>\n",
       "    <tr style=\"text-align: right;\">\n",
       "      <th></th>\n",
       "      <th>Unnamed: 8</th>\n",
       "    </tr>\n",
       "  </thead>\n",
       "  <tbody>\n",
       "    <tr>\n",
       "      <th>1</th>\n",
       "      <td>0</td>\n",
       "    </tr>\n",
       "    <tr>\n",
       "      <th>2</th>\n",
       "      <td>7.16</td>\n",
       "    </tr>\n",
       "    <tr>\n",
       "      <th>3</th>\n",
       "      <td>7.19</td>\n",
       "    </tr>\n",
       "    <tr>\n",
       "      <th>4</th>\n",
       "      <td>6.71</td>\n",
       "    </tr>\n",
       "    <tr>\n",
       "      <th>5</th>\n",
       "      <td>6.45</td>\n",
       "    </tr>\n",
       "    <tr>\n",
       "      <th>...</th>\n",
       "      <td>...</td>\n",
       "    </tr>\n",
       "    <tr>\n",
       "      <th>363</th>\n",
       "      <td>NaN</td>\n",
       "    </tr>\n",
       "    <tr>\n",
       "      <th>364</th>\n",
       "      <td>NaN</td>\n",
       "    </tr>\n",
       "    <tr>\n",
       "      <th>365</th>\n",
       "      <td>NaN</td>\n",
       "    </tr>\n",
       "    <tr>\n",
       "      <th>366</th>\n",
       "      <td>NaN</td>\n",
       "    </tr>\n",
       "    <tr>\n",
       "      <th>367</th>\n",
       "      <td>NaN</td>\n",
       "    </tr>\n",
       "  </tbody>\n",
       "</table>\n",
       "<p>1835 rows × 1 columns</p>\n",
       "</div>"
      ],
      "text/plain": [
       "    Unnamed: 8\n",
       "1            0\n",
       "2         7.16\n",
       "3         7.19\n",
       "4         6.71\n",
       "5         6.45\n",
       "..         ...\n",
       "363        NaN\n",
       "364        NaN\n",
       "365        NaN\n",
       "366        NaN\n",
       "367        NaN\n",
       "\n",
       "[1835 rows x 1 columns]"
      ]
     },
     "execution_count": 156,
     "metadata": {},
     "output_type": "execute_result"
    }
   ],
   "source": [
    "pH"
   ]
  },
  {
   "cell_type": "code",
   "execution_count": 157,
   "id": "d9e24696-bec2-4157-805d-b5dbda2cd5ea",
   "metadata": {},
   "outputs": [],
   "source": [
    "pH = pd.to_numeric(pH['Unnamed: 8'], errors='coerce').dropna()"
   ]
  },
  {
   "cell_type": "code",
   "execution_count": 158,
   "id": "ad16f9e3-2292-4055-8540-bc50c7331add",
   "metadata": {},
   "outputs": [
    {
     "data": {
      "text/plain": [
       "1     0.00\n",
       "2     7.16\n",
       "3     7.19\n",
       "4     6.71\n",
       "5     6.45\n",
       "      ... \n",
       "35    7.03\n",
       "36    0.00\n",
       "37    7.54\n",
       "38    7.66\n",
       "39    6.82\n",
       "Name: Unnamed: 8, Length: 1473, dtype: float64"
      ]
     },
     "execution_count": 158,
     "metadata": {},
     "output_type": "execute_result"
    }
   ],
   "source": [
    "pH"
   ]
  },
  {
   "cell_type": "code",
   "execution_count": 159,
   "id": "432e97c1-128a-42c2-a6b9-425f7769b38d",
   "metadata": {},
   "outputs": [],
   "source": [
    "pH = pd.DataFrame({'pH': pH})\n",
    "pH.reset_index(drop=True,inplace = True)"
   ]
  },
  {
   "cell_type": "code",
   "execution_count": 160,
   "id": "c2f16315-0932-4961-936c-68ee01425cf8",
   "metadata": {},
   "outputs": [
    {
     "data": {
      "text/html": [
       "<div>\n",
       "<style scoped>\n",
       "    .dataframe tbody tr th:only-of-type {\n",
       "        vertical-align: middle;\n",
       "    }\n",
       "\n",
       "    .dataframe tbody tr th {\n",
       "        vertical-align: top;\n",
       "    }\n",
       "\n",
       "    .dataframe thead th {\n",
       "        text-align: right;\n",
       "    }\n",
       "</style>\n",
       "<table border=\"1\" class=\"dataframe\">\n",
       "  <thead>\n",
       "    <tr style=\"text-align: right;\">\n",
       "      <th></th>\n",
       "      <th>Unnamed: 12</th>\n",
       "    </tr>\n",
       "  </thead>\n",
       "  <tbody>\n",
       "    <tr>\n",
       "      <th>0</th>\n",
       "      <td>0</td>\n",
       "    </tr>\n",
       "    <tr>\n",
       "      <th>1</th>\n",
       "      <td>2.04</td>\n",
       "    </tr>\n",
       "    <tr>\n",
       "      <th>2</th>\n",
       "      <td>2.04</td>\n",
       "    </tr>\n",
       "    <tr>\n",
       "      <th>3</th>\n",
       "      <td>2.02</td>\n",
       "    </tr>\n",
       "    <tr>\n",
       "      <th>4</th>\n",
       "      <td>2.15</td>\n",
       "    </tr>\n",
       "    <tr>\n",
       "      <th>...</th>\n",
       "      <td>...</td>\n",
       "    </tr>\n",
       "    <tr>\n",
       "      <th>1830</th>\n",
       "      <td>NaN</td>\n",
       "    </tr>\n",
       "    <tr>\n",
       "      <th>1831</th>\n",
       "      <td>NaN</td>\n",
       "    </tr>\n",
       "    <tr>\n",
       "      <th>1832</th>\n",
       "      <td>NaN</td>\n",
       "    </tr>\n",
       "    <tr>\n",
       "      <th>1833</th>\n",
       "      <td>NaN</td>\n",
       "    </tr>\n",
       "    <tr>\n",
       "      <th>1834</th>\n",
       "      <td>NaN</td>\n",
       "    </tr>\n",
       "  </tbody>\n",
       "</table>\n",
       "<p>1835 rows × 1 columns</p>\n",
       "</div>"
      ],
      "text/plain": [
       "     Unnamed: 12\n",
       "0              0\n",
       "1           2.04\n",
       "2           2.04\n",
       "3           2.02\n",
       "4           2.15\n",
       "...          ...\n",
       "1830         NaN\n",
       "1831         NaN\n",
       "1832         NaN\n",
       "1833         NaN\n",
       "1834         NaN\n",
       "\n",
       "[1835 rows x 1 columns]"
      ]
     },
     "execution_count": 160,
     "metadata": {},
     "output_type": "execute_result"
    }
   ],
   "source": [
    "chlorine = pd.concat([df1.iloc[1:368,12:13], df2.iloc[1:368,12:13], df3.iloc[1:368,12:13], df4.iloc[1:368,12:13], df5.iloc[1:368,12:13]], axis=0).reset_index(drop=True)\n",
    "chlorine"
   ]
  },
  {
   "cell_type": "code",
   "execution_count": 161,
   "id": "94d38531-210a-4d0d-b279-ac956f48448f",
   "metadata": {},
   "outputs": [],
   "source": [
    "chlorine = pd.to_numeric(chlorine['Unnamed: 12'], errors='coerce').dropna()"
   ]
  },
  {
   "cell_type": "code",
   "execution_count": 162,
   "id": "aec32df5-02a6-4b98-b49d-7a7aea5d6510",
   "metadata": {},
   "outputs": [],
   "source": [
    "chlorine = pd.DataFrame({'chlorine': chlorine})"
   ]
  },
  {
   "cell_type": "code",
   "execution_count": 163,
   "id": "11794581-bfe2-499f-be98-ea0185d9e554",
   "metadata": {},
   "outputs": [],
   "source": [
    "chlorine.reset_index(drop=True,inplace = True)"
   ]
  },
  {
   "cell_type": "code",
   "execution_count": 164,
   "id": "f276902a-d985-4b75-8625-0af67c7e883d",
   "metadata": {},
   "outputs": [],
   "source": [
    "turbidity = pd.concat([df1.iloc[2:368,25:26], df2.iloc[1:368,25:26], df3.iloc[1:368,25:26], df4.iloc[1:368,25:26], df5.iloc[1:368,25:26]], axis=0)"
   ]
  },
  {
   "cell_type": "code",
   "execution_count": 165,
   "id": "95f017f9-4ac8-424c-9af7-de439b3c800d",
   "metadata": {},
   "outputs": [
    {
     "data": {
      "text/html": [
       "<div>\n",
       "<style scoped>\n",
       "    .dataframe tbody tr th:only-of-type {\n",
       "        vertical-align: middle;\n",
       "    }\n",
       "\n",
       "    .dataframe tbody tr th {\n",
       "        vertical-align: top;\n",
       "    }\n",
       "\n",
       "    .dataframe thead th {\n",
       "        text-align: right;\n",
       "    }\n",
       "</style>\n",
       "<table border=\"1\" class=\"dataframe\">\n",
       "  <thead>\n",
       "    <tr style=\"text-align: right;\">\n",
       "      <th></th>\n",
       "      <th>Unnamed: 25</th>\n",
       "    </tr>\n",
       "  </thead>\n",
       "  <tbody>\n",
       "    <tr>\n",
       "      <th>2</th>\n",
       "      <td>0.437</td>\n",
       "    </tr>\n",
       "    <tr>\n",
       "      <th>3</th>\n",
       "      <td>0.412</td>\n",
       "    </tr>\n",
       "    <tr>\n",
       "      <th>4</th>\n",
       "      <td>0.457</td>\n",
       "    </tr>\n",
       "    <tr>\n",
       "      <th>5</th>\n",
       "      <td>0.461</td>\n",
       "    </tr>\n",
       "    <tr>\n",
       "      <th>6</th>\n",
       "      <td>0</td>\n",
       "    </tr>\n",
       "    <tr>\n",
       "      <th>...</th>\n",
       "      <td>...</td>\n",
       "    </tr>\n",
       "    <tr>\n",
       "      <th>363</th>\n",
       "      <td>NaN</td>\n",
       "    </tr>\n",
       "    <tr>\n",
       "      <th>364</th>\n",
       "      <td>NaN</td>\n",
       "    </tr>\n",
       "    <tr>\n",
       "      <th>365</th>\n",
       "      <td>NaN</td>\n",
       "    </tr>\n",
       "    <tr>\n",
       "      <th>366</th>\n",
       "      <td>NaN</td>\n",
       "    </tr>\n",
       "    <tr>\n",
       "      <th>367</th>\n",
       "      <td>NaN</td>\n",
       "    </tr>\n",
       "  </tbody>\n",
       "</table>\n",
       "<p>1834 rows × 1 columns</p>\n",
       "</div>"
      ],
      "text/plain": [
       "    Unnamed: 25\n",
       "2         0.437\n",
       "3         0.412\n",
       "4         0.457\n",
       "5         0.461\n",
       "6             0\n",
       "..          ...\n",
       "363         NaN\n",
       "364         NaN\n",
       "365         NaN\n",
       "366         NaN\n",
       "367         NaN\n",
       "\n",
       "[1834 rows x 1 columns]"
      ]
     },
     "execution_count": 165,
     "metadata": {},
     "output_type": "execute_result"
    }
   ],
   "source": [
    "turbidity"
   ]
  },
  {
   "cell_type": "code",
   "execution_count": 166,
   "id": "e156152e-0602-483b-923e-f74da4b98b27",
   "metadata": {},
   "outputs": [],
   "source": [
    "turbidity = pd.to_numeric(turbidity['Unnamed: 25'], errors='coerce').dropna()"
   ]
  },
  {
   "cell_type": "code",
   "execution_count": 167,
   "id": "d0baec5f-b39f-4e56-817a-3ebfd48b3c07",
   "metadata": {},
   "outputs": [],
   "source": [
    "turbidity = pd.DataFrame({'turbidity': turbidity})"
   ]
  },
  {
   "cell_type": "code",
   "execution_count": 168,
   "id": "4ddd6c37-ceb1-4e5c-8d84-cbb2e4d66c6d",
   "metadata": {},
   "outputs": [],
   "source": [
    "turbidity.reset_index(drop=True,inplace = True)"
   ]
  },
  {
   "cell_type": "code",
   "execution_count": 169,
   "id": "81a9e246-5434-40f8-b7b3-95462f95ff8c",
   "metadata": {},
   "outputs": [],
   "source": [
    "X = pd.concat([turbidity, chlorine], axis=1)\n",
    "y = pH"
   ]
  },
  {
   "cell_type": "code",
   "execution_count": 171,
   "id": "ec210cfe-b9c3-40ab-a945-c274ddf5c894",
   "metadata": {},
   "outputs": [
    {
     "data": {
      "text/html": [
       "<div>\n",
       "<style scoped>\n",
       "    .dataframe tbody tr th:only-of-type {\n",
       "        vertical-align: middle;\n",
       "    }\n",
       "\n",
       "    .dataframe tbody tr th {\n",
       "        vertical-align: top;\n",
       "    }\n",
       "\n",
       "    .dataframe thead th {\n",
       "        text-align: right;\n",
       "    }\n",
       "</style>\n",
       "<table border=\"1\" class=\"dataframe\">\n",
       "  <thead>\n",
       "    <tr style=\"text-align: right;\">\n",
       "      <th></th>\n",
       "      <th>pH</th>\n",
       "    </tr>\n",
       "  </thead>\n",
       "  <tbody>\n",
       "    <tr>\n",
       "      <th>0</th>\n",
       "      <td>0.00</td>\n",
       "    </tr>\n",
       "    <tr>\n",
       "      <th>1</th>\n",
       "      <td>7.16</td>\n",
       "    </tr>\n",
       "    <tr>\n",
       "      <th>2</th>\n",
       "      <td>7.19</td>\n",
       "    </tr>\n",
       "    <tr>\n",
       "      <th>3</th>\n",
       "      <td>6.71</td>\n",
       "    </tr>\n",
       "    <tr>\n",
       "      <th>4</th>\n",
       "      <td>6.45</td>\n",
       "    </tr>\n",
       "    <tr>\n",
       "      <th>...</th>\n",
       "      <td>...</td>\n",
       "    </tr>\n",
       "    <tr>\n",
       "      <th>1468</th>\n",
       "      <td>7.03</td>\n",
       "    </tr>\n",
       "    <tr>\n",
       "      <th>1469</th>\n",
       "      <td>0.00</td>\n",
       "    </tr>\n",
       "    <tr>\n",
       "      <th>1470</th>\n",
       "      <td>7.54</td>\n",
       "    </tr>\n",
       "    <tr>\n",
       "      <th>1471</th>\n",
       "      <td>7.66</td>\n",
       "    </tr>\n",
       "    <tr>\n",
       "      <th>1472</th>\n",
       "      <td>6.82</td>\n",
       "    </tr>\n",
       "  </tbody>\n",
       "</table>\n",
       "<p>1473 rows × 1 columns</p>\n",
       "</div>"
      ],
      "text/plain": [
       "        pH\n",
       "0     0.00\n",
       "1     7.16\n",
       "2     7.19\n",
       "3     6.71\n",
       "4     6.45\n",
       "...    ...\n",
       "1468  7.03\n",
       "1469  0.00\n",
       "1470  7.54\n",
       "1471  7.66\n",
       "1472  6.82\n",
       "\n",
       "[1473 rows x 1 columns]"
      ]
     },
     "execution_count": 171,
     "metadata": {},
     "output_type": "execute_result"
    }
   ],
   "source": [
    "y"
   ]
  },
  {
   "cell_type": "code",
   "execution_count": 172,
   "id": "2e4b05eb-87e8-4de8-857f-9607dc3da399",
   "metadata": {},
   "outputs": [],
   "source": [
    "X_train, X_test, y_train, y_test = train_test_split(X, y, test_size=0.2, random_state=42)"
   ]
  },
  {
   "cell_type": "code",
   "execution_count": 173,
   "id": "dc48f53e-c7dc-47a8-91f7-7ca981afd25c",
   "metadata": {},
   "outputs": [
    {
     "data": {
      "text/plain": [
       "DecisionTreeRegressor(random_state=42)"
      ]
     },
     "execution_count": 173,
     "metadata": {},
     "output_type": "execute_result"
    }
   ],
   "source": [
    "model = DecisionTreeRegressor(random_state=42)\n",
    "model.fit(X_train, y_train)"
   ]
  },
  {
   "cell_type": "code",
   "execution_count": 174,
   "id": "fbe77f75-d9cd-43c6-b306-065218b47202",
   "metadata": {},
   "outputs": [
    {
     "data": {
      "text/plain": [
       "0.9075167916897122"
      ]
     },
     "execution_count": 174,
     "metadata": {},
     "output_type": "execute_result"
    }
   ],
   "source": [
    "y_pred = model.predict(X_test)\n",
    "r2_score(y_test, y_pred)"
   ]
  },
  {
   "cell_type": "code",
   "execution_count": 175,
   "id": "76160562-b9d5-45ac-886d-27cb88efe56e",
   "metadata": {},
   "outputs": [],
   "source": [
    "import matplotlib.pyplot as plt"
   ]
  },
  {
   "cell_type": "code",
   "execution_count": 176,
   "id": "e9cc2cb7-0b2a-4b14-a592-f17e120d34a1",
   "metadata": {},
   "outputs": [
    {
     "data": {
      "image/png": "[encoded data removed]",
      "text/plain": [
       "<Figure size 640x480 with 1 Axes>"
      ]
     },
     "metadata": {},
     "output_type": "display_data"
    }
   ],
   "source": [
    "plt.scatter(turbidity, pH)\n",
    "plt.xlabel('Turbidity')\n",
    "plt.ylabel('pH')\n",
    "plt.show()"
   ]
  },
  {
   "cell_type": "code",
   "execution_count": 177,
   "id": "f1d0fe26-6ded-439b-9164-de518829eb8e",
   "metadata": {},
   "outputs": [
    {
     "data": {
      "image/png": "[encoded data removed]",
      "text/plain": [
       "<Figure size 640x480 with 1 Axes>"
      ]
     },
     "metadata": {},
     "output_type": "display_data"
    }
   ],
   "source": [
    "plt.scatter(chlorine, pH)\n",
    "plt.xlabel('Chlorine')\n",
    "plt.ylabel('pH')\n",
    "plt.show()"
   ]
  },
  {
   "cell_type": "code",
   "execution_count": 178,
   "id": "0038a4f0-e28a-4ca5-b2a9-ca21bc82f898",
   "metadata": {},
   "outputs": [],
   "source": [
    "turbidity_input = 0.703\n",
    "chlorine_input = 1.91"
   ]
  },
  {
   "cell_type": "code",
   "execution_count": 179,
   "id": "f4b68d1e-9932-465d-be24-695354985dfb",
   "metadata": {},
   "outputs": [],
   "source": [
    "input_df = pd.DataFrame({'turbidity': [turbidity_input], 'chlorine': [chlorine_input]})"
   ]
  },
  {
   "cell_type": "code",
   "execution_count": 180,
   "id": "b10bca88-66b1-4b43-a4b8-a1d7888aef45",
   "metadata": {},
   "outputs": [],
   "source": [
    "pH_prediction = model.predict(input_df)"
   ]
  },
  {
   "cell_type": "code",
   "execution_count": 181,
   "id": "081c1929-f729-4802-925d-02daf94d0ed0",
   "metadata": {},
   "outputs": [
    {
     "name": "stdout",
     "output_type": "stream",
     "text": [
      "The predicted pH value is: 6.87\n"
     ]
    }
   ],
   "source": [
    "print(\"The predicted pH value is:\", pH_prediction[0])"
   ]
  },
  {
   "cell_type": "code",
   "execution_count": null,
   "id": "abe694e7-5693-495f-96c0-e7679cac0c53",
   "metadata": {},
   "outputs": [],
   "source": []
  }
 ],
 "metadata": {
  "kernelspec": {
   "display_name": "Python 3 (ipykernel)",
   "language": "python",
   "name": "python3"
  },
  "language_info": {
   "codemirror_mode": {
    "name": "ipython",
    "version": 3
   },
   "file_extension": ".py",
   "mimetype": "text/x-python",
   "name": "python",
   "nbconvert_exporter": "python",
   "pygments_lexer": "ipython3",
   "version": "3.9.13"
  }
 },
 "nbformat": 4,
 "nbformat_minor": 5
}
